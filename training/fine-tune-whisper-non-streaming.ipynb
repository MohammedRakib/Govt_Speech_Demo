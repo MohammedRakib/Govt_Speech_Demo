{
 "cells": [
  {
   "cell_type": "markdown",
   "id": "75b58048-7d14-4fc6-8085-1fc08c81b4a6",
   "metadata": {
    "id": "75b58048-7d14-4fc6-8085-1fc08c81b4a6"
   },
   "source": [
    "# Fine-Tune Whisper For Multilingual ASR with 🤗 Transformers"
   ]
  },
  {
   "cell_type": "markdown",
   "id": "fbfa8ad5-4cdc-4512-9058-836cbbf65e1a",
   "metadata": {
    "id": "fbfa8ad5-4cdc-4512-9058-836cbbf65e1a"
   },
   "source": [
    "In this Colab, we present a step-by-step guide on how to fine-tune Whisper \n",
    "for any multilingual ASR dataset using Hugging Face 🤗 Transformers. This is a \n",
    "more \"hands-on\" version of the accompanying [blog post](https://huggingface.co/blog/fine-tune-whisper). \n",
    "For a more in-depth explanation of Whisper, the Common Voice dataset and the theory behind fine-tuning, the reader is advised to refer to the blog post."
   ]
  },
  {
   "cell_type": "markdown",
   "id": "afe0d503-ae4e-4aa7-9af4-dbcba52db41e",
   "metadata": {
    "id": "afe0d503-ae4e-4aa7-9af4-dbcba52db41e"
   },
   "source": [
    "## Introduction"
   ]
  },
  {
   "cell_type": "markdown",
   "id": "9ae91ed4-9c3e-4ade-938e-f4c2dcfbfdc0",
   "metadata": {
    "id": "9ae91ed4-9c3e-4ade-938e-f4c2dcfbfdc0"
   },
   "source": [
    "Whisper is a pre-trained model for automatic speech recognition (ASR) \n",
    "published in [September 2022](https://openai.com/blog/whisper/) by the authors \n",
    "Alec Radford et al. from OpenAI. Unlike many of its predecessors, such as \n",
    "[Wav2Vec 2.0](https://arxiv.org/abs/2006.11477), which are pre-trained \n",
    "on un-labelled audio data, Whisper is pre-trained on a vast quantity of \n",
    "**labelled** audio-transcription data, 680,000 hours to be precise. \n",
    "This is an order of magnitude more data than the un-labelled audio data used \n",
    "to train Wav2Vec 2.0 (60,000 hours). What is more, 117,000 hours of this \n",
    "pre-training data is multilingual ASR data. This results in checkpoints \n",
    "that can be applied to over 96 languages, many of which are considered \n",
    "_low-resource_.\n",
    "\n",
    "When scaled to 680,000 hours of labelled pre-training data, Whisper models \n",
    "demonstrate a strong ability to generalise to many datasets and domains.\n",
    "The pre-trained checkpoints achieve competitive results to state-of-the-art \n",
    "ASR systems, with near 3% word error rate (WER) on the test-clean subset of \n",
    "LibriSpeech ASR and a new state-of-the-art on TED-LIUM with 4.7% WER (_c.f._ \n",
    "Table 8 of the [Whisper paper](https://cdn.openai.com/papers/whisper.pdf)).\n",
    "The extensive multilingual ASR knowledge acquired by Whisper during pre-training \n",
    "can be leveraged for other low-resource languages; through fine-tuning, the \n",
    "pre-trained checkpoints can be adapted for specific datasets and languages \n",
    "to further improve upon these results. We'll show just how Whisper can be fine-tuned \n",
    "for low-resource languages in this Colab."
   ]
  },
  {
   "cell_type": "markdown",
   "id": "e59b91d6-be24-4b5e-bb38-4977ea143a72",
   "metadata": {
    "id": "e59b91d6-be24-4b5e-bb38-4977ea143a72"
   },
   "source": [
    "<figure>\n",
    "<img src=\"https://raw.githubusercontent.com/sanchit-gandhi/notebooks/main/whisper_architecture.svg\" alt=\"Trulli\" style=\"width:100%\">\n",
    "<figcaption align = \"center\"><b>Figure 1:</b> Whisper model. The architecture \n",
    "follows the standard Transformer-based encoder-decoder model. A \n",
    "log-Mel spectrogram is input to the encoder. The last encoder \n",
    "hidden states are input to the decoder via cross-attention mechanisms. The \n",
    "decoder autoregressively predicts text tokens, jointly conditional on the \n",
    "encoder hidden states and previously predicted tokens. Figure source: \n",
    "<a href=\"https://openai.com/blog/whisper/\">OpenAI Whisper Blog</a>.</figcaption>\n",
    "</figure>"
   ]
  },
  {
   "cell_type": "markdown",
   "id": "21b6316e-8a55-4549-a154-66d3da2ab74a",
   "metadata": {
    "id": "21b6316e-8a55-4549-a154-66d3da2ab74a"
   },
   "source": [
    "The Whisper checkpoints come in five configurations of varying model sizes.\n",
    "The smallest four are trained on either English-only or multilingual data.\n",
    "The largest checkpoint is multilingual only. All nine of the pre-trained checkpoints \n",
    "are available on the [Hugging Face Hub](https://huggingface.co/models?search=openai/whisper). The \n",
    "checkpoints are summarised in the following table with links to the models on the Hub:\n",
    "\n",
    "| Size   | Layers | Width | Heads | Parameters | English-only                                         | Multilingual                                      |\n",
    "|--------|--------|-------|-------|------------|------------------------------------------------------|---------------------------------------------------|\n",
    "| tiny   | 4      | 384   | 6     | 39 M       | [✓](https://huggingface.co/openai/whisper-tiny.en)   | [✓](https://huggingface.co/openai/whisper-tiny.)  |\n",
    "| base   | 6      | 512   | 8     | 74 M       | [✓](https://huggingface.co/openai/whisper-base.en)   | [✓](https://huggingface.co/openai/whisper-base)   |\n",
    "| small  | 12     | 768   | 12    | 244 M      | [✓](https://huggingface.co/openai/whisper-small.en)  | [✓](https://huggingface.co/openai/whisper-small)  |\n",
    "| medium | 24     | 1024  | 16    | 769 M      | [✓](https://huggingface.co/openai/whisper-medium.en) | [✓](https://huggingface.co/openai/whisper-medium) |\n",
    "| large  | 32     | 1280  | 20    | 1550 M     | x                                                    | [✓](https://huggingface.co/openai/whisper-large)  |\n",
    "\n",
    "For demonstration purposes, we'll fine-tune the multilingual version of the \n",
    "[`\"small\"`](https://huggingface.co/openai/whisper-small) checkpoint with 244M params (~= 1GB). \n",
    "As for our data, we'll train and evaluate our system on a low-resource language \n",
    "taken from the [Common Voice](https://huggingface.co/datasets/mozilla-foundation/common_voice_11_0)\n",
    "dataset. We'll show that with as little as 8 hours of fine-tuning data, we can achieve \n",
    "strong performance in this language."
   ]
  },
  {
   "cell_type": "markdown",
   "id": "3a680dfc-cbba-4f6c-8a1f-e1a5ff3f123a",
   "metadata": {
    "id": "3a680dfc-cbba-4f6c-8a1f-e1a5ff3f123a"
   },
   "source": [
    "------------------------------------------------------------------------\n",
    "\n",
    "\\\\({}^1\\\\) The name Whisper follows from the acronym “WSPSR”, which stands for “Web-scale Supervised Pre-training for Speech Recognition”."
   ]
  },
  {
   "attachments": {},
   "cell_type": "markdown",
   "id": "6b40d04e",
   "metadata": {},
   "source": [
    "## Prepare Environment"
   ]
  },
  {
   "cell_type": "markdown",
   "id": "47686bd5-cbb1-4352-81cf-0fcf7bbd45c3",
   "metadata": {
    "id": "47686bd5-cbb1-4352-81cf-0fcf7bbd45c3"
   },
   "source": [
    "We can verify that we've been assigned a GPU and view its specifications:"
   ]
  },
  {
   "cell_type": "code",
   "execution_count": 1,
   "id": "c77152bf",
   "metadata": {},
   "outputs": [],
   "source": [
    "# Run the following command separately before running the py version of this notebook!!\n",
    "#git config --global credential.helper store\n",
    "#huggingface-cli login"
   ]
  },
  {
   "cell_type": "code",
   "execution_count": 2,
   "id": "81a1d0cd",
   "metadata": {},
   "outputs": [],
   "source": [
    "import os\n",
    "\n",
    "abs_path = os.path.abspath('.')\n",
    "base_dir = os.path.dirname(os.path.dirname(abs_path))\n",
    "\n",
    "os.environ['TRANSFORMERS_CACHE'] = os.path.join(base_dir, 'models_cache')\n",
    "os.environ['TRANSFORMERS_OFFLINE'] = '0'\n",
    "os.environ['HF_DATASETS_CACHE'] = os.path.join(base_dir, 'datasets_cache')\n",
    "os.environ['HF_DATASETS_OFFLINE'] = '0'"
   ]
  },
  {
   "cell_type": "code",
   "execution_count": 3,
   "id": "d74b38c5-a1fb-4214-b4f4-b5bf0869f169",
   "metadata": {
    "id": "d74b38c5-a1fb-4214-b4f4-b5bf0869f169",
    "tags": []
   },
   "outputs": [
    {
     "name": "stdout",
     "output_type": "stream",
     "text": [
      "Connected to a GPU!\n"
     ]
    }
   ],
   "source": [
    "gpu_info = !nvidia-smi\n",
    "gpu_info = '\\n'.join(gpu_info)\n",
    "if gpu_info.find('failed') >= 0:\n",
    "  print('NOT connected to a GPU!. Will use CPU!')\n",
    "else:\n",
    "  print('Connected to a GPU!')"
   ]
  },
  {
   "cell_type": "code",
   "execution_count": 4,
   "id": "91de998e",
   "metadata": {},
   "outputs": [],
   "source": [
    "# sudo add-apt-repository -y ppa:jonathonf/ffmpeg-4\n",
    "# sudo apt update\n",
    "# sudo apt install -y ffmpeg\n",
    "# !pip install huggingface_hub\n",
    "# !pip install ipywidgets\n",
    "# !pip install git+https://github.com/huggingface/datasets\n",
    "# !pip install git+https://github.com/huggingface/transformers\n",
    "# !pip install librosa\n",
    "# !pip install evaluate>=0.3.0\n",
    "# !pip install jiwer\n",
    "# !pip install bnunicodenormalizer"
   ]
  },
  {
   "cell_type": "markdown",
   "id": "5b185650-af09-48c6-a67b-0e4368b74b3b",
   "metadata": {
    "id": "5b185650-af09-48c6-a67b-0e4368b74b3b",
    "tags": []
   },
   "source": [
    "Linking the notebook to the Hugging Face Hub is straightforward - it simply requires entering your \n",
    "Hub authentication token when prompted. Find your Hub authentication token [here](https://huggingface.co/settings/tokens):"
   ]
  },
  {
   "cell_type": "code",
   "execution_count": 5,
   "id": "dff27c76-575c-432b-8916-b1b810efef4a",
   "metadata": {
    "id": "dff27c76-575c-432b-8916-b1b810efef4a"
   },
   "outputs": [
    {
     "data": {
      "application/vnd.jupyter.widget-view+json": {
       "model_id": "726ec5b0f4ec4bc9a4b1f7f2703f4696",
       "version_major": 2,
       "version_minor": 0
      },
      "text/plain": [
       "VBox(children=(HTML(value='<center> <img\\nsrc=https://huggingface.co/front/assets/huggingface_logo-noborder.sv…"
      ]
     },
     "metadata": {},
     "output_type": "display_data"
    }
   ],
   "source": [
    "from huggingface_hub import notebook_login\n",
    "\n",
    "notebook_login()"
   ]
  },
  {
   "attachments": {},
   "cell_type": "markdown",
   "id": "b0d1816a",
   "metadata": {},
   "source": [
    "## Variables"
   ]
  },
  {
   "cell_type": "code",
   "execution_count": 6,
   "id": "ac83ae3e",
   "metadata": {},
   "outputs": [],
   "source": [
    "# model_name = \"openai/whisper-large-v2\"\n",
    "model_name = \"openai/whisper-tiny\"\n",
    "language = \"bn\"\n",
    "task = \"transcribe\" # transcribe or translate"
   ]
  },
  {
   "attachments": {},
   "cell_type": "markdown",
   "id": "239aeee6",
   "metadata": {},
   "source": [
    "### Training Args"
   ]
  },
  {
   "cell_type": "code",
   "execution_count": 7,
   "id": "d0a39a48",
   "metadata": {},
   "outputs": [],
   "source": [
    "output_dir = \"./\" \n",
    "overwrite_output_dir = True\n",
    "# max_steps = 60000 \n",
    "max_steps = 10 \n",
    "# per_device_train_batch_size = 4 \n",
    "per_device_train_batch_size = 1 \n",
    "# per_device_eval_batch_size = 2 \n",
    "per_device_eval_batch_size = 1 \n",
    "# gradient_accumulation_steps = 8 \n",
    "gradient_accumulation_steps = 1 \n",
    "gradient_checkpointing = False \n",
    "evaluation_strategy =\"steps\" \n",
    "eval_steps =2 \n",
    "# eval_steps = 1000 \n",
    "save_strategy = \"steps\" \n",
    "# save_steps = 1000 \n",
    "save_steps = 2 \n",
    "save_total_limit = 5 \n",
    "learning_rate = 1e-5 \n",
    "# warmup_steps = 5000 \n",
    "warmup_steps = 1 \n",
    "# logging_steps = 25\n",
    "logging_steps = 1\n",
    "weight_decay = 0.01 \n",
    "load_best_model_at_end = True \n",
    "metric_for_best_model = \"wer\" \n",
    "greater_is_better = False \n",
    "# bf16 = True \n",
    "bf16 = False\n",
    "# tf32 = True \n",
    "tf32 = False\n",
    "generation_max_length = 225 \n",
    "report_to = [\"tensorboard\"] \n",
    "predict_with_generate = True\n",
    "# push_to_hub = True\n",
    "push_to_hub = False\n",
    "freeze_feature_encoder = False "
   ]
  },
  {
   "attachments": {},
   "cell_type": "markdown",
   "id": "b219c9dd-39b6-4a95-b2a1-3f547a1e7bc0",
   "metadata": {
    "id": "b219c9dd-39b6-4a95-b2a1-3f547a1e7bc0"
   },
   "source": [
    "## Load & Merge Dataset"
   ]
  },
  {
   "attachments": {},
   "cell_type": "markdown",
   "id": "674429c5-0ab4-4adf-975b-621bb69eca38",
   "metadata": {
    "id": "674429c5-0ab4-4adf-975b-621bb69eca38"
   },
   "source": [
    "Using 🤗 Datasets, downloading and preparing data is extremely simple. \n",
    "We can download and prepare the Common Voice splits in just one line of code. \n",
    "\n",
    "First, ensure you have accepted the terms of use on the Hugging Face Hub: [mozilla-foundation/common_voice_11_0](https://huggingface.co/datasets/mozilla-foundation/common_voice_11_0). Once you have accepted the terms, you will have full access to the dataset and be able to download the data locally.\n",
    "\n",
    "Since Bangla is very low-resource, we'll combine the `train` and `validation` \n",
    "splits to give approximately 8 hours of training data. We'll use the 4 hours \n",
    "of `test` data as our held-out test set:"
   ]
  },
  {
   "cell_type": "code",
   "execution_count": 8,
   "id": "a2787582-554f-44ce-9f38-4180a5ed6b44",
   "metadata": {
    "id": "a2787582-554f-44ce-9f38-4180a5ed6b44"
   },
   "outputs": [
    {
     "name": "stderr",
     "output_type": "stream",
     "text": [
      "Found cached dataset common_voice_11_0 (e:/datasets_cache/mozilla-foundation___common_voice_11_0/bn/11.0.0/f8e47235d9b4e68fa24ed71d63266a02018ccf7194b2a8c9c598a5f3ab304d9f)\n",
      "Found cached dataset fleurs (e:/datasets_cache/google___fleurs/bn_in/2.0.0/aabb39fb29739c495517ac904e2886819b6e344702f0a5b5283cb178b087c94a)\n",
      "Found cached dataset openslr (e:/datasets_cache/openslr/SLR53/0.0.0/cd9de085f77465c1cb7d394e748a3a5b80fad2049e7af92f67baf04b894f9567)\n"
     ]
    },
    {
     "data": {
      "application/vnd.jupyter.widget-view+json": {
       "model_id": "44ee5b2975e049cd9fda942f2fb588d6",
       "version_major": 2,
       "version_minor": 0
      },
      "text/plain": [
       "  0%|          | 0/1 [00:00<?, ?it/s]"
      ]
     },
     "metadata": {},
     "output_type": "display_data"
    },
    {
     "name": "stderr",
     "output_type": "stream",
     "text": [
      "Found cached dataset common_voice_11_0 (e:/datasets_cache/mozilla-foundation___common_voice_11_0/bn/11.0.0/f8e47235d9b4e68fa24ed71d63266a02018ccf7194b2a8c9c598a5f3ab304d9f)\n",
      "Found cached dataset fleurs (e:/datasets_cache/google___fleurs/bn_in/2.0.0/aabb39fb29739c495517ac904e2886819b6e344702f0a5b5283cb178b087c94a)\n"
     ]
    }
   ],
   "source": [
    "from datasets import load_dataset, DatasetDict\n",
    "\n",
    "common_voice = DatasetDict()\n",
    "google_fleurs = DatasetDict()\n",
    "openslr = DatasetDict()\n",
    "## commonvoice_11.0 + google_fleurs + openslr53\n",
    "my_dataset = DatasetDict()\n",
    "\n",
    "common_voice[\"train\"] = load_dataset(\"mozilla-foundation/common_voice_11_0\", \"bn\", split=\"train+validation\", cache_dir=os.path.join(base_dir, 'datasets_cache'))\n",
    "google_fleurs[\"train\"] = load_dataset(\"google/fleurs\", \"bn_in\", split=\"train+validation\", cache_dir=os.path.join(base_dir, 'datasets_cache'))\n",
    "openslr = load_dataset(\"openslr\", \"SLR53\", cache_dir=os.path.join(base_dir, 'datasets_cache'))\n",
    "\n",
    "common_voice[\"test\"] = load_dataset(\"mozilla-foundation/common_voice_11_0\", \"bn\", split=\"test\", cache_dir=os.path.join(base_dir, 'datasets_cache'))\n",
    "google_fleurs[\"test\"] = load_dataset(\"google/fleurs\", \"bn_in\", split=\"test\", cache_dir=os.path.join(base_dir, 'datasets_cache'))"
   ]
  },
  {
   "attachments": {},
   "cell_type": "markdown",
   "id": "d5c7c3d6-7197-41e7-a088-49b753c1681f",
   "metadata": {
    "id": "d5c7c3d6-7197-41e7-a088-49b753c1681f"
   },
   "source": [
    "Here's how we will merge the three datasets:\n",
    "\n",
    "- Most ASR datasets only provide input audio samples (`audio`) and the \n",
    "corresponding transcribed text (`sentence`). Any additional \n",
    "metadata information, such as `accent` and `locale`, are disregarded for ASR.\n",
    "Keeping the notebook as general as possible, we only consider the input audio and\n",
    "transcribed text for fine-tuning, discarding the additional metadata information using the `remove_columns` method\n",
    "\n",
    "- We _downsample_ any audio data down to 16kHz prior to passing it to the Whisper feature extractor, as 16kHz is expected by the Whisper model. We'll set the audio inputs to the correct sampling rate using dataset's \n",
    "[`cast_column`](https://huggingface.co/docs/datasets/package_reference/main_classes.html?highlight=cast_column#datasets.DatasetDict.cast_column)\n",
    "method. This operation does not change the audio in-place, \n",
    "but rather signals to `datasets` to resample audio samples _on the fly_ the \n",
    "first time that they are loaded"
   ]
  },
  {
   "cell_type": "code",
   "execution_count": 9,
   "id": "4c6808fd",
   "metadata": {},
   "outputs": [],
   "source": [
    "#small subset for testing\n",
    "\n",
    "common_voice['train']  = common_voice['train'].select(range(50))\n",
    "common_voice['test']  = common_voice['test'].select(range(50))\n",
    "google_fleurs['train']  = google_fleurs['train'].select(range(50))\n",
    "google_fleurs['test']  = google_fleurs['test'].select(range(50))\n",
    "openslr['train'] = openslr['train'].select(range(50))"
   ]
  },
  {
   "cell_type": "code",
   "execution_count": 10,
   "id": "151eecbd",
   "metadata": {},
   "outputs": [],
   "source": [
    "from datasets import concatenate_datasets, Audio\n",
    "\n",
    "sampling_rate = 16000\n",
    "\n",
    "## resample to specified sampling rate\n",
    "common_voice = common_voice.cast_column(\"audio\", Audio(sampling_rate))\n",
    "google_fleurs = google_fleurs.cast_column(\"audio\", Audio(sampling_rate))\n",
    "openslr = openslr.cast_column(\"audio\", Audio(sampling_rate))\n",
    "\n",
    "## normalise columns to [\"audio\", \"sentence\"]\n",
    "common_voice = common_voice.remove_columns(\n",
    "    set(common_voice['test'].features.keys()) - {\"audio\", \"sentence\"}\n",
    ")\n",
    "\n",
    "google_fleurs = google_fleurs.rename_column(\"raw_transcription\", \"sentence\")\n",
    "google_fleurs = google_fleurs.remove_columns(\n",
    "    set(google_fleurs['test'].features.keys()) - {\"audio\", \"sentence\"}\n",
    ")\n",
    "\n",
    "openslr = openslr.remove_columns(\n",
    "    set(openslr['train'].features.keys()) - {\"audio\", \"sentence\"}\n",
    ")\n",
    "\n",
    "## merge the three datasets\n",
    "my_dataset['train'] = concatenate_datasets([common_voice['train'], google_fleurs['train'], openslr['train']]) #for linux\n",
    "# my_dataset['train'] = concatenate_datasets([google_fleurs['train'], openslr['train']]) #for windows no commonvoice as it requires ffmpeg-4\n",
    "my_dataset['test'] = concatenate_datasets([common_voice['test'], google_fleurs['test']]) #for linux\n",
    "# my_dataset['test'] = concatenate_datasets([google_fleurs['test']]) #for windows no commonvoice as it requires ffmpeg-4\n",
    "\n",
    "#shuffle train set with seed=42\n",
    "my_dataset['train'] = my_dataset['train'].shuffle(seed=42)"
   ]
  },
  {
   "cell_type": "code",
   "execution_count": 16,
   "id": "c46c526b",
   "metadata": {},
   "outputs": [
    {
     "data": {
      "text/plain": [
       "('পিটম্যান ইঙ্গিত দিয়েছিলেন যে আগামী সপ্তাহের আগে অবস্থার উন্নতি হবে না।',\n",
       " 'প্রায়ই ‘এককাট্টা শ্রেণী’ হিসেবে নিয়েছেন')"
      ]
     },
     "execution_count": 16,
     "metadata": {},
     "output_type": "execute_result"
    }
   ],
   "source": [
    "# i=49\n",
    "# common_voice['train'][i]['sentence'], google_fleurs['train'][i]['sentence'], openslr['train'][i]['sentence']"
   ]
  },
  {
   "attachments": {},
   "cell_type": "markdown",
   "id": "2f38c459",
   "metadata": {},
   "source": [
    "### Examining features and dtypes are aligned or not"
   ]
  },
  {
   "cell_type": "code",
   "execution_count": 11,
   "id": "3e91f479",
   "metadata": {},
   "outputs": [
    {
     "data": {
      "text/plain": [
       "{'audio': Audio(sampling_rate=16000, mono=True, decode=True, id=None),\n",
       " 'sentence': Value(dtype='string', id=None)}"
      ]
     },
     "execution_count": 11,
     "metadata": {},
     "output_type": "execute_result"
    }
   ],
   "source": [
    "# google_fleurs['train'].features\n",
    "# common_voice['train'].features\n",
    "# openslr['train'].features\n",
    "my_dataset['train'].features"
   ]
  },
  {
   "cell_type": "code",
   "execution_count": 13,
   "id": "1843738d",
   "metadata": {},
   "outputs": [],
   "source": [
    "# openslr['train'][0]['audio']['array'].dtype\n",
    "# google_fleurs['train'][0]['audio']['array'].dtype\n",
    "# common_voice['test'][1]['audio']['array'].dtype"
   ]
  },
  {
   "cell_type": "markdown",
   "id": "2d63b2d2-f68a-4d74-b7f1-5127f6d16605",
   "metadata": {
    "id": "2d63b2d2-f68a-4d74-b7f1-5127f6d16605"
   },
   "source": [
    "## Prepare Feature Extractor, Tokenizer and Data"
   ]
  },
  {
   "cell_type": "markdown",
   "id": "601c3099-1026-439e-93e2-5635b3ba5a73",
   "metadata": {
    "id": "601c3099-1026-439e-93e2-5635b3ba5a73"
   },
   "source": [
    "The ASR pipeline can be de-composed into three stages: \n",
    "1) A feature extractor which pre-processes the raw audio-inputs\n",
    "2) The model which performs the sequence-to-sequence mapping \n",
    "3) A tokenizer which post-processes the model outputs to text format\n",
    "\n",
    "In 🤗 Transformers, the Whisper model has an associated feature extractor and tokenizer, \n",
    "called [WhisperFeatureExtractor](https://huggingface.co/docs/transformers/main/model_doc/whisper#transformers.WhisperFeatureExtractor)\n",
    "and [WhisperTokenizer](https://huggingface.co/docs/transformers/main/model_doc/whisper#transformers.WhisperTokenizer) \n",
    "respectively.\n",
    "\n",
    "We'll go through details for setting-up the feature extractor and tokenizer one-by-one!"
   ]
  },
  {
   "cell_type": "markdown",
   "id": "560332eb-3558-41a1-b500-e83a9f695f84",
   "metadata": {
    "id": "560332eb-3558-41a1-b500-e83a9f695f84"
   },
   "source": [
    "### Load WhisperFeatureExtractor"
   ]
  },
  {
   "cell_type": "markdown",
   "id": "32ec8068-0bd7-412d-b662-0edb9d1e7365",
   "metadata": {
    "id": "32ec8068-0bd7-412d-b662-0edb9d1e7365"
   },
   "source": [
    "The Whisper feature extractor performs two operations:\n",
    "1. Pads / truncates the audio inputs to 30s: any audio inputs shorter than 30s are padded to 30s with silence (zeros), and those longer that 30s are truncated to 30s\n",
    "2. Converts the audio inputs to _log-Mel spectrogram_ input features, a visual representation of the audio and the form of the input expected by the Whisper model"
   ]
  },
  {
   "cell_type": "markdown",
   "id": "589d9ec1-d12b-4b64-93f7-04c63997da19",
   "metadata": {
    "id": "589d9ec1-d12b-4b64-93f7-04c63997da19"
   },
   "source": [
    "<figure>\n",
    "<img src=\"https://raw.githubusercontent.com/sanchit-gandhi/notebooks/main/spectrogram.jpg\" alt=\"Trulli\" style=\"width:100%\">\n",
    "<figcaption align = \"center\"><b>Figure 2:</b> Conversion of sampled audio array to log-Mel spectrogram.\n",
    "Left: sampled 1-dimensional audio signal. Right: corresponding log-Mel spectrogram. Figure source:\n",
    "<a href=\"https://ai.googleblog.com/2019/04/specaugment-new-data-augmentation.html\">Google SpecAugment Blog</a>.\n",
    "</figcaption>"
   ]
  },
  {
   "cell_type": "markdown",
   "id": "b2ef54d5-b946-4c1d-9fdc-adc5d01b46aa",
   "metadata": {
    "id": "b2ef54d5-b946-4c1d-9fdc-adc5d01b46aa"
   },
   "source": [
    "We'll load the feature extractor from the pre-trained checkpoint with the default values:"
   ]
  },
  {
   "cell_type": "code",
   "execution_count": 14,
   "id": "bc77d7bb-f9e2-47f5-b663-30f7a4321ce5",
   "metadata": {
    "id": "bc77d7bb-f9e2-47f5-b663-30f7a4321ce5"
   },
   "outputs": [],
   "source": [
    "from transformers import WhisperFeatureExtractor\n",
    "\n",
    "feature_extractor = WhisperFeatureExtractor.from_pretrained(model_name)"
   ]
  },
  {
   "cell_type": "markdown",
   "id": "93748af7-b917-4ecf-a0c8-7d89077ff9cb",
   "metadata": {
    "id": "93748af7-b917-4ecf-a0c8-7d89077ff9cb"
   },
   "source": [
    "### Load WhisperTokenizer"
   ]
  },
  {
   "cell_type": "markdown",
   "id": "2bc82609-a9fb-447a-a2af-99597c864029",
   "metadata": {
    "id": "2bc82609-a9fb-447a-a2af-99597c864029"
   },
   "source": [
    "The Whisper model outputs a sequence of _token ids_. The tokenizer maps each of these token ids to their corresponding text string. For Hindi, we can load the pre-trained tokenizer and use it for fine-tuning without any further modifications. We simply have to \n",
    "specify the target language and the task. These arguments inform the \n",
    "tokenizer to prefix the language and task tokens to the start of encoded \n",
    "label sequences:"
   ]
  },
  {
   "cell_type": "code",
   "execution_count": 15,
   "id": "c7b07f9b-ae0e-4f89-98f0-0c50d432eab6",
   "metadata": {
    "id": "c7b07f9b-ae0e-4f89-98f0-0c50d432eab6",
    "outputId": "5c004b44-86e7-4e00-88be-39e0af5eed69"
   },
   "outputs": [],
   "source": [
    "from transformers import WhisperTokenizer\n",
    "\n",
    "tokenizer = WhisperTokenizer.from_pretrained(model_name, language=language, task=task)"
   ]
  },
  {
   "cell_type": "markdown",
   "id": "d2ef23f3-f4a8-483a-a2dc-080a7496cb1b",
   "metadata": {
    "id": "d2ef23f3-f4a8-483a-a2dc-080a7496cb1b"
   },
   "source": [
    "### Combine To Create A WhisperProcessor"
   ]
  },
  {
   "cell_type": "markdown",
   "id": "5ff67654-5a29-4bb8-a69d-0228946c6f8d",
   "metadata": {
    "id": "5ff67654-5a29-4bb8-a69d-0228946c6f8d"
   },
   "source": [
    "To simplify using the feature extractor and tokenizer, we can _wrap_ \n",
    "both into a single `WhisperProcessor` class. This processor object \n",
    "inherits from the `WhisperFeatureExtractor` and `WhisperProcessor`, \n",
    "and can be used on the audio inputs and model predictions as required. \n",
    "In doing so, we only need to keep track of two objects during training: \n",
    "the `processor` and the `model`:"
   ]
  },
  {
   "cell_type": "code",
   "execution_count": 16,
   "id": "77d9f0c5-8607-4642-a8ac-c3ab2e223ea6",
   "metadata": {
    "id": "77d9f0c5-8607-4642-a8ac-c3ab2e223ea6"
   },
   "outputs": [],
   "source": [
    "from transformers import WhisperProcessor\n",
    "\n",
    "processor = WhisperProcessor.from_pretrained(model_name, language=language, task=task)"
   ]
  },
  {
   "cell_type": "markdown",
   "id": "381acd09-0b0f-4d04-9eb3-f028ac0e5f2c",
   "metadata": {
    "id": "381acd09-0b0f-4d04-9eb3-f028ac0e5f2c"
   },
   "source": [
    "### Prepare Data"
   ]
  },
  {
   "cell_type": "markdown",
   "id": "9649bf01-2e8a-45e5-8fca-441c13637b8f",
   "metadata": {
    "id": "9649bf01-2e8a-45e5-8fca-441c13637b8f"
   },
   "source": [
    "Let's print the first example of the Common Voice dataset to see \n",
    "what form the data is in:"
   ]
  },
  {
   "cell_type": "code",
   "execution_count": 17,
   "id": "6e6b0ec5-0c94-4e2c-ae24-c791be1b2255",
   "metadata": {
    "id": "6e6b0ec5-0c94-4e2c-ae24-c791be1b2255"
   },
   "outputs": [
    {
     "name": "stdout",
     "output_type": "stream",
     "text": [
      "{'audio': {'path': 'E:\\\\datasets_cache\\\\downloads\\\\extracted\\\\f996294c90897704ab75685bd55cdb07f545c26d5a7520235ad785bd27c4444e\\\\asr_bengali\\\\data\\\\00\\\\0001fd54d9.flac', 'array': array([0.0012207 , 0.00262451, 0.00354004, ..., 0.00616455, 0.00616455,\n",
      "       0.003479  ], dtype=float32), 'sampling_rate': 16000}, 'sentence': 'আপনার গল্প ছাড়া'}\n"
     ]
    }
   ],
   "source": [
    "print(my_dataset[\"train\"][0])"
   ]
  },
  {
   "cell_type": "markdown",
   "id": "3df7378a-a4c0-45d7-8d07-defbd1062ab6",
   "metadata": {},
   "source": [
    "We'll define our pre-processing strategy. We advise that you **do not** lower-case the transcriptions or remove punctuation unless mixing different datasets. This will enable you to fine-tune Whisper models that can predict punctuation and casing. Later, you will see how we can evaluate the predictions without punctuation or casing, so that the models benefit from the WER improvement obtained by normalising the transcriptions while still predicting fully formatted transcriptions."
   ]
  },
  {
   "cell_type": "code",
   "execution_count": 18,
   "id": "d041650e-1c48-4439-87b3-5b6f4a514107",
   "metadata": {},
   "outputs": [],
   "source": [
    "from transformers.models.whisper.english_normalizer import BasicTextNormalizer\n",
    "from bnunicodenormalizer import Normalizer\n",
    "\n",
    "do_lower_case = False\n",
    "do_remove_punctuation = False\n",
    "do_bangla_unicode_normalization = True\n",
    "\n",
    "normalizer = BasicTextNormalizer()\n",
    "bangla_normalizer = Normalizer(allow_english=True)"
   ]
  },
  {
   "attachments": {},
   "cell_type": "markdown",
   "id": "89e12c2e-2f14-479b-987b-f0c75c881095",
   "metadata": {},
   "source": [
    "Now we can write a function to prepare our data ready for the model:\n",
    "1. We load and resample the audio data by calling `batch[\"audio\"]`. As explained above, 🤗 Datasets performs any necessary resampling operations on the fly.\n",
    "2. We use the feature extractor to compute the log-Mel spectrogram input features from our 1-dimensional audio array.\n",
    "3. We perform any optional pre-processing (lower-case or remove punctuation or normalize Bangla to Unicode characters).\n",
    "4. We encode the transcriptions to label ids through the use of the tokenizer."
   ]
  },
  {
   "cell_type": "code",
   "execution_count": 19,
   "id": "c085911c-a10a-41ef-8874-306e0503e9bb",
   "metadata": {},
   "outputs": [],
   "source": [
    "def prepare_dataset(batch):\n",
    "    # load and (possibly) resample audio data to 16kHz\n",
    "    audio = batch[\"audio\"]\n",
    "\n",
    "    # compute log-Mel input features from input audio array \n",
    "    batch[\"input_features\"] = processor.feature_extractor(audio[\"array\"], sampling_rate=audio[\"sampling_rate\"]).input_features[0]\n",
    "    # compute input length of audio sample in seconds\n",
    "    batch[\"input_length\"] = len(audio[\"array\"]) / audio[\"sampling_rate\"]\n",
    "    \n",
    "    # optional pre-processing steps\n",
    "    transcription = batch[\"sentence\"]\n",
    "    if do_lower_case:\n",
    "        transcription = transcription.lower()\n",
    "    if do_remove_punctuation:\n",
    "        transcription = normalizer(transcription).strip()\n",
    "    if do_bangla_unicode_normalization:\n",
    "        _words = [bangla_normalizer(word)['normalized'] for word in transcription.split()]\n",
    "        transcription = \" \".join([word for word in _words if word is not None])\n",
    "    \n",
    "    # encode target text to label ids\n",
    "    batch[\"labels\"] = processor.tokenizer(transcription).input_ids\n",
    "    return batch"
   ]
  },
  {
   "cell_type": "markdown",
   "id": "8c960965-9fb6-466f-9dbd-c9d43e71d9d0",
   "metadata": {
    "id": "70b319fb-2439-4ef6-a70d-a47bf41c4a13"
   },
   "source": [
    "We can apply the data preparation function to all of our training examples using dataset's `.map` method. The argument `num_proc` specifies how many CPU cores to use. Setting `num_proc` > 1 will enable multiprocessing. If the `.map` method hangs with multiprocessing, set `num_proc=1` and process the dataset sequentially."
   ]
  },
  {
   "cell_type": "code",
   "execution_count": 20,
   "id": "7b73ab39-ffaf-4b9e-86e5-782963c6134b",
   "metadata": {
    "id": "7b73ab39-ffaf-4b9e-86e5-782963c6134b"
   },
   "outputs": [
    {
     "data": {
      "application/vnd.jupyter.widget-view+json": {
       "model_id": "c2245ed8a139455387ba70645ac59b8b",
       "version_major": 2,
       "version_minor": 0
      },
      "text/plain": [
       "  0%|          | 0/100 [00:00<?, ?ex/s]"
      ]
     },
     "metadata": {},
     "output_type": "display_data"
    },
    {
     "data": {
      "application/vnd.jupyter.widget-view+json": {
       "model_id": "496e839938564e76a7f2f170c5b22d9d",
       "version_major": 2,
       "version_minor": 0
      },
      "text/plain": [
       "  0%|          | 0/50 [00:00<?, ?ex/s]"
      ]
     },
     "metadata": {},
     "output_type": "display_data"
    }
   ],
   "source": [
    "# common_voice = common_voice.map(prepare_dataset, remove_columns=common_voice.column_names[\"train\"], num_proc=2)\n",
    "my_dataset = my_dataset.map(prepare_dataset, num_proc=1)"
   ]
  },
  {
   "cell_type": "markdown",
   "id": "54ce0fdb-7218-4a4d-b175-383980fec0df",
   "metadata": {},
   "source": [
    "Finally, we filter any training data with audio samples longer than 30s. These samples would otherwise be truncated by the Whisper feature-extractor which could affect the stability of training. We define a function that returns `True` for samples that are less than 30s, and `False` for those that are longer:"
   ]
  },
  {
   "cell_type": "code",
   "execution_count": 21,
   "id": "01cb25ef-4bb0-4325-9461-f59198acadf6",
   "metadata": {},
   "outputs": [],
   "source": [
    "max_input_length = 30.0\n",
    "min_input_length = 1.0\n",
    "\n",
    "def is_audio_in_length_range(length):\n",
    "    return length < max_input_length and length > min_input_length"
   ]
  },
  {
   "cell_type": "markdown",
   "id": "30e676a8-7ca8-4850-8c5d-5b2b00d13fba",
   "metadata": {},
   "source": [
    "We apply our filter function to all samples of our training dataset through 🤗 Datasets' `.filter` method:"
   ]
  },
  {
   "cell_type": "code",
   "execution_count": 22,
   "id": "333f7f6e-6053-4d3b-8924-c733c79b82ac",
   "metadata": {},
   "outputs": [
    {
     "data": {
      "application/vnd.jupyter.widget-view+json": {
       "model_id": "7ca5d1069b714a32909b6c75c43a4059",
       "version_major": 2,
       "version_minor": 0
      },
      "text/plain": [
       "  0%|          | 0/1 [00:00<?, ?ba/s]"
      ]
     },
     "metadata": {},
     "output_type": "display_data"
    }
   ],
   "source": [
    "my_dataset[\"train\"] = my_dataset[\"train\"].filter(\n",
    "    is_audio_in_length_range,\n",
    "    input_columns=[\"input_length\"],\n",
    ")"
   ]
  },
  {
   "attachments": {},
   "cell_type": "markdown",
   "id": "a3194934",
   "metadata": {},
   "source": [
    "### Save & Cleanup Cache Files"
   ]
  },
  {
   "cell_type": "code",
   "execution_count": 23,
   "id": "d2d9d574",
   "metadata": {},
   "outputs": [
    {
     "data": {
      "application/vnd.jupyter.widget-view+json": {
       "model_id": "e01dcad793e445d39829f70a3fbca7d7",
       "version_major": 2,
       "version_minor": 0
      },
      "text/plain": [
       "Flattening the indices:   0%|          | 0/1 [00:00<?, ?ba/s]"
      ]
     },
     "metadata": {},
     "output_type": "display_data"
    },
    {
     "data": {
      "application/vnd.jupyter.widget-view+json": {
       "model_id": "d78a61a0d1b74db99d49560d113eb50b",
       "version_major": 2,
       "version_minor": 0
      },
      "text/plain": [
       "Saving the dataset (0/1 shards):   0%|          | 0/99 [00:00<?, ? examples/s]"
      ]
     },
     "metadata": {},
     "output_type": "display_data"
    },
    {
     "data": {
      "application/vnd.jupyter.widget-view+json": {
       "model_id": "6463be2f27ac4418bef9bd9fa752b7f8",
       "version_major": 2,
       "version_minor": 0
      },
      "text/plain": [
       "Saving the dataset (0/1 shards):   0%|          | 0/50 [00:00<?, ? examples/s]"
      ]
     },
     "metadata": {},
     "output_type": "display_data"
    }
   ],
   "source": [
    "my_dataset.save_to_disk(os.path.join(base_dir, \"datasets_cache\"))"
   ]
  },
  {
   "cell_type": "code",
   "execution_count": null,
   "id": "bb34035a",
   "metadata": {},
   "outputs": [],
   "source": [
    "## Returns the number of removed cache files\n",
    "my_dataset.cleanup_cache_files()\n",
    "common_voice.cleanup_cache_files()\n",
    "google_fleurs.cleanup_cache_files()\n",
    "openslr.cleanup_cache_files()"
   ]
  },
  {
   "cell_type": "code",
   "execution_count": 26,
   "id": "747f8a38",
   "metadata": {},
   "outputs": [],
   "source": [
    "from datasets import load_from_disk\n",
    "my_dataset = load_from_disk(os.path.join(base_dir, \"datasets_cache\"))"
   ]
  },
  {
   "cell_type": "markdown",
   "id": "263a5a58-0239-4a25-b0df-c625fc9c5810",
   "metadata": {
    "id": "263a5a58-0239-4a25-b0df-c625fc9c5810"
   },
   "source": [
    "## Training and Evaluation"
   ]
  },
  {
   "cell_type": "markdown",
   "id": "a693e768-c5a6-453f-89a1-b601dcf7daf7",
   "metadata": {
    "id": "a693e768-c5a6-453f-89a1-b601dcf7daf7"
   },
   "source": [
    "Now that we've prepared our data, we're ready to dive into the training pipeline. \n",
    "The [🤗 Trainer](https://huggingface.co/transformers/master/main_classes/trainer.html?highlight=trainer)\n",
    "will do much of the heavy lifting for us. All we have to do is:\n",
    "\n",
    "- Define a data collator: the data collator takes our pre-processed data and prepares PyTorch tensors ready for the model.\n",
    "\n",
    "- Evaluation metrics: during evaluation, we want to evaluate the model using the [word error rate (WER)](https://huggingface.co/metrics/wer) metric. We need to define a `compute_metrics` function that handles this computation.\n",
    "\n",
    "- Load a pre-trained checkpoint: we need to load a pre-trained checkpoint and configure it correctly for training.\n",
    "\n",
    "- Define the training configuration: this will be used by the 🤗 Trainer to define the training schedule.\n",
    "\n",
    "Once we've fine-tuned the model, we will evaluate it on the test data to verify that we have correctly trained it \n",
    "to transcribe speech in Hindi."
   ]
  },
  {
   "cell_type": "markdown",
   "id": "8d230e6d-624c-400a-bbf5-fa660881df25",
   "metadata": {
    "id": "8d230e6d-624c-400a-bbf5-fa660881df25"
   },
   "source": [
    "### Define a Data Collator"
   ]
  },
  {
   "cell_type": "markdown",
   "id": "04def221-0637-4a69-b242-d3f0c1d0ee78",
   "metadata": {
    "id": "04def221-0637-4a69-b242-d3f0c1d0ee78"
   },
   "source": [
    "The data collator for a sequence-to-sequence speech model is unique in the sense that it \n",
    "treats the `input_features` and `labels` independently: the  `input_features` must be \n",
    "handled by the feature extractor and the `labels` by the tokenizer.\n",
    "\n",
    "The `input_features` are already padded to 30s and converted to a log-Mel spectrogram \n",
    "of fixed dimension by action of the feature extractor, so all we have to do is convert the `input_features`\n",
    "to batched PyTorch tensors. We do this using the feature extractor's `.pad` method with `return_tensors=pt`.\n",
    "\n",
    "The `labels` on the other hand are un-padded. We first pad the sequences\n",
    "to the maximum length in the batch using the tokenizer's `.pad` method. The padding tokens \n",
    "are then replaced by `-100` so that these tokens are **not** taken into account when \n",
    "computing the loss. We then cut the BOS token from the start of the label sequence as we \n",
    "append it later during training.\n",
    "\n",
    "We can leverage the `WhisperProcessor` we defined earlier to perform both the \n",
    "feature extractor and the tokenizer operations:"
   ]
  },
  {
   "cell_type": "code",
   "execution_count": 28,
   "id": "8326221e-ec13-4731-bb4e-51e5fc1486c5",
   "metadata": {
    "id": "8326221e-ec13-4731-bb4e-51e5fc1486c5"
   },
   "outputs": [],
   "source": [
    "import torch\n",
    "\n",
    "from dataclasses import dataclass\n",
    "from typing import Any, Dict, List, Union\n",
    "\n",
    "@dataclass\n",
    "class DataCollatorSpeechSeq2SeqWithPadding:\n",
    "    processor: Any\n",
    "\n",
    "    def __call__(self, features: List[Dict[str, Union[List[int], torch.Tensor]]]) -> Dict[str, torch.Tensor]:\n",
    "        # split inputs and labels since they have to be of different lengths and need different padding methods\n",
    "        # first treat the audio inputs by simply returning torch tensors\n",
    "        input_features = [{\"input_features\": feature[\"input_features\"]} for feature in features]\n",
    "        batch = self.processor.feature_extractor.pad(input_features, return_tensors=\"pt\")\n",
    "\n",
    "        # get the tokenized label sequences\n",
    "        label_features = [{\"input_ids\": feature[\"labels\"]} for feature in features]\n",
    "        # pad the labels to max length\n",
    "        labels_batch = self.processor.tokenizer.pad(label_features, return_tensors=\"pt\")\n",
    "\n",
    "        # replace padding with -100 to ignore loss correctly\n",
    "        labels = labels_batch[\"input_ids\"].masked_fill(labels_batch.attention_mask.ne(1), -100)\n",
    "\n",
    "        # if bos token is appended in previous tokenization step,\n",
    "        # cut bos token here as it's append later anyways\n",
    "        if (labels[:, 0] == self.processor.tokenizer.bos_token_id).all().cpu().item():\n",
    "            labels = labels[:, 1:]\n",
    "\n",
    "        batch[\"labels\"] = labels\n",
    "\n",
    "        return batch"
   ]
  },
  {
   "cell_type": "markdown",
   "id": "3cae7dbf-8a50-456e-a3a8-7fd005390f86",
   "metadata": {
    "id": "3cae7dbf-8a50-456e-a3a8-7fd005390f86"
   },
   "source": [
    "Let's initialise the data collator we've just defined:"
   ]
  },
  {
   "cell_type": "code",
   "execution_count": 29,
   "id": "fc834702-c0d3-4a96-b101-7b87be32bf42",
   "metadata": {
    "id": "fc834702-c0d3-4a96-b101-7b87be32bf42"
   },
   "outputs": [],
   "source": [
    "data_collator = DataCollatorSpeechSeq2SeqWithPadding(processor=processor)"
   ]
  },
  {
   "cell_type": "markdown",
   "id": "d62bb2ab-750a-45e7-82e9-61d6f4805698",
   "metadata": {
    "id": "d62bb2ab-750a-45e7-82e9-61d6f4805698"
   },
   "source": [
    "### Evaluation Metrics"
   ]
  },
  {
   "cell_type": "markdown",
   "id": "66fee1a7-a44c-461e-b047-c3917221572e",
   "metadata": {
    "id": "66fee1a7-a44c-461e-b047-c3917221572e"
   },
   "source": [
    "We'll use the word error rate (WER) metric, the 'de-facto' metric for assessing \n",
    "ASR systems. For more information, refer to the WER [docs](https://huggingface.co/metrics/wer). We'll load the WER metric from 🤗 Evaluate:"
   ]
  },
  {
   "cell_type": "code",
   "execution_count": 30,
   "id": "b22b4011-f31f-4b57-b684-c52332f92890",
   "metadata": {
    "id": "b22b4011-f31f-4b57-b684-c52332f92890"
   },
   "outputs": [
    {
     "data": {
      "application/vnd.jupyter.widget-view+json": {
       "model_id": "69ef76daf86f437da4b513e73cb1b6c5",
       "version_major": 2,
       "version_minor": 0
      },
      "text/plain": [
       "Downloading builder script:   0%|          | 0.00/4.49k [00:00<?, ?B/s]"
      ]
     },
     "metadata": {},
     "output_type": "display_data"
    }
   ],
   "source": [
    "import evaluate\n",
    "\n",
    "metric = evaluate.load(\"wer\", cache_dir=os.path.join(base_dir, \"metrics_cache\"))"
   ]
  },
  {
   "cell_type": "markdown",
   "id": "4f32cab6-31f0-4cb9-af4c-40ba0f5fc508",
   "metadata": {
    "id": "4f32cab6-31f0-4cb9-af4c-40ba0f5fc508"
   },
   "source": [
    "We then simply have to define a function that takes our model \n",
    "predictions and returns the WER metric. This function, called\n",
    "`compute_metrics`, first replaces `-100` with the `pad_token_id`\n",
    "in the `label_ids` (undoing the step we applied in the \n",
    "data collator to ignore padded tokens correctly in the loss).\n",
    "It then decodes the predicted and label ids to strings. Finally,\n",
    "it computes the WER between the predictions and reference labels. \n",
    "Here, we have the option of evaluating with the 'normalised' transcriptions \n",
    "and predictions. We recommend you set this to `True` to benefit from the WER \n",
    "improvement obtained by normalising the transcriptions."
   ]
  },
  {
   "cell_type": "code",
   "execution_count": 31,
   "id": "23959a70-22d0-4ffe-9fa1-72b61e75bb52",
   "metadata": {
    "id": "23959a70-22d0-4ffe-9fa1-72b61e75bb52"
   },
   "outputs": [],
   "source": [
    "# evaluate with the 'normalised' WER\n",
    "do_normalize_eval = True\n",
    "\n",
    "def compute_metrics(pred):\n",
    "    pred_ids = pred.predictions\n",
    "    label_ids = pred.label_ids\n",
    "\n",
    "    # replace -100 with the pad_token_id\n",
    "    label_ids[label_ids == -100] = processor.tokenizer.pad_token_id\n",
    "\n",
    "    # we do not want to group tokens when computing the metrics\n",
    "    pred_str = processor.tokenizer.batch_decode(pred_ids, skip_special_tokens=True)\n",
    "    label_str = processor.tokenizer.batch_decode(label_ids, skip_special_tokens=True)\n",
    "\n",
    "    if do_normalize_eval:\n",
    "        pred_str = [normalizer(pred) for pred in pred_str]\n",
    "        label_str = [normalizer(label) for label in label_str]\n",
    "\n",
    "    wer = 100 * metric.compute(predictions=pred_str, references=label_str)\n",
    "\n",
    "    return {\"wer\": wer}"
   ]
  },
  {
   "cell_type": "markdown",
   "id": "daf2a825-6d9f-4a23-b145-c37c0039075b",
   "metadata": {
    "id": "daf2a825-6d9f-4a23-b145-c37c0039075b"
   },
   "source": [
    "### Load a Pre-Trained Checkpoint"
   ]
  },
  {
   "cell_type": "markdown",
   "id": "437a97fa-4864-476b-8abc-f28b8166cfa5",
   "metadata": {
    "id": "437a97fa-4864-476b-8abc-f28b8166cfa5"
   },
   "source": [
    "Now let's load the pre-trained Whisper `small` checkpoint. Again, this \n",
    "is trivial through use of 🤗 Transformers!"
   ]
  },
  {
   "cell_type": "code",
   "execution_count": 32,
   "id": "5a10cc4b-07ec-4ebd-ac1d-7c601023594f",
   "metadata": {
    "id": "5a10cc4b-07ec-4ebd-ac1d-7c601023594f"
   },
   "outputs": [
    {
     "data": {
      "application/vnd.jupyter.widget-view+json": {
       "model_id": "8e9ebbec412140f1b0f796abf899b1da",
       "version_major": 2,
       "version_minor": 0
      },
      "text/plain": [
       "Downloading:   0%|          | 0.00/1.96k [00:00<?, ?B/s]"
      ]
     },
     "metadata": {},
     "output_type": "display_data"
    },
    {
     "name": "stderr",
     "output_type": "stream",
     "text": [
      "e:\\Govt_Speech_Demo\\env\\lib\\site-packages\\huggingface_hub\\file_download.py:127: UserWarning: `huggingface_hub` cache-system uses symlinks by default to efficiently store duplicated files but your machine does not support them in E:\\models_cache. Caching files will still work but in a degraded version that might require more space on your disk. This warning can be disabled by setting the `HF_HUB_DISABLE_SYMLINKS_WARNING` environment variable. For more details, see https://huggingface.co/docs/huggingface_hub/how-to-cache#limitations.\n",
      "To support symlinks on Windows, you either need to activate Developer Mode or to run Python as an administrator. In order to see activate developer mode, see this article: https://docs.microsoft.com/en-us/windows/apps/get-started/enable-your-device-for-development\n",
      "  warnings.warn(message)\n"
     ]
    },
    {
     "data": {
      "application/vnd.jupyter.widget-view+json": {
       "model_id": "b05f49a625464f2c89847acfe48a8084",
       "version_major": 2,
       "version_minor": 0
      },
      "text/plain": [
       "Downloading:   0%|          | 0.00/151M [00:00<?, ?B/s]"
      ]
     },
     "metadata": {},
     "output_type": "display_data"
    },
    {
     "data": {
      "application/vnd.jupyter.widget-view+json": {
       "model_id": "93b457a8f9d6477f97841ec05f3eefd9",
       "version_major": 2,
       "version_minor": 0
      },
      "text/plain": [
       "Downloading:   0%|          | 0.00/3.49k [00:00<?, ?B/s]"
      ]
     },
     "metadata": {},
     "output_type": "display_data"
    }
   ],
   "source": [
    "from transformers import WhisperForConditionalGeneration\n",
    "\n",
    "model = WhisperForConditionalGeneration.from_pretrained(model_name)"
   ]
  },
  {
   "cell_type": "markdown",
   "id": "a15ead5f-2277-4a39-937b-585c2497b2df",
   "metadata": {
    "id": "a15ead5f-2277-4a39-937b-585c2497b2df"
   },
   "source": [
    "Override generation arguments - no tokens are forced as decoder outputs (see [`forced_decoder_ids`](https://huggingface.co/docs/transformers/main_classes/text_generation#transformers.generation_utils.GenerationMixin.generate.forced_decoder_ids)), no tokens are suppressed during generation (see [`suppress_tokens`](https://huggingface.co/docs/transformers/main_classes/text_generation#transformers.generation_utils.GenerationMixin.generate.suppress_tokens)). Set `use_cache` to False since we're using gradient checkpointing, and the two are incompatible:"
   ]
  },
  {
   "cell_type": "code",
   "execution_count": 35,
   "id": "62038ba3-88ed-4fce-84db-338f50dcd04f",
   "metadata": {
    "id": "62038ba3-88ed-4fce-84db-338f50dcd04f"
   },
   "outputs": [],
   "source": [
    "model.config.forced_decoder_ids = None\n",
    "model.config.suppress_tokens = []\n",
    "if gradient_checkpointing:\n",
    "    model.config.use_cache = False\n",
    "if freeze_feature_encoder:\n",
    "    model.freeze_feature_encoder()"
   ]
  },
  {
   "cell_type": "markdown",
   "id": "2178dea4-80ca-47b6-b6ea-ba1915c90c06",
   "metadata": {
    "id": "2178dea4-80ca-47b6-b6ea-ba1915c90c06"
   },
   "source": [
    "### Define the Training Configuration"
   ]
  },
  {
   "cell_type": "markdown",
   "id": "c21af1e9-0188-4134-ac82-defc7bdcc436",
   "metadata": {
    "id": "c21af1e9-0188-4134-ac82-defc7bdcc436"
   },
   "source": [
    "In the final step, we define all the parameters related to training. For more detail on the training arguments, refer to the Seq2SeqTrainingArguments [docs](https://huggingface.co/docs/transformers/main_classes/trainer#transformers.Seq2SeqTrainingArguments)."
   ]
  },
  {
   "cell_type": "code",
   "execution_count": 39,
   "id": "0ae3e9af-97b7-4aa0-ae85-20b23b5bcb3a",
   "metadata": {
    "id": "0ae3e9af-97b7-4aa0-ae85-20b23b5bcb3a"
   },
   "outputs": [],
   "source": [
    "from transformers import Seq2SeqTrainingArguments\n",
    "\n",
    "training_args = Seq2SeqTrainingArguments(\n",
    "    output_dir=output_dir,\n",
    "    overwrite_output_dir=overwrite_output_dir,\n",
    "    max_steps=max_steps,\n",
    "    per_device_train_batch_size=per_device_train_batch_size,\n",
    "    per_device_eval_batch_size=per_device_eval_batch_size,\n",
    "    gradient_accumulation_steps=gradient_accumulation_steps,\n",
    "    gradient_checkpointing=gradient_checkpointing,\n",
    "    evaluation_strategy=evaluation_strategy,\n",
    "    eval_steps=eval_steps,\n",
    "    save_strategy=save_strategy,\n",
    "    save_steps=save_steps,\n",
    "    save_total_limit=save_total_limit,\n",
    "    learning_rate=learning_rate,\n",
    "    warmup_steps=warmup_steps,\n",
    "    logging_steps=logging_steps,\n",
    "    weight_decay=weight_decay,\n",
    "    load_best_model_at_end=load_best_model_at_end,\n",
    "    metric_for_best_model=metric_for_best_model,\n",
    "    greater_is_better=greater_is_better,\n",
    "    bf16=bf16,\n",
    "    tf32=tf32,\n",
    "    generation_max_length=generation_max_length,\n",
    "    report_to=report_to,\n",
    "    predict_with_generate=predict_with_generate,\n",
    "    push_to_hub=push_to_hub,\n",
    ")"
   ]
  },
  {
   "cell_type": "markdown",
   "id": "b3a944d8-3112-4552-82a0-be25988b3857",
   "metadata": {
    "id": "b3a944d8-3112-4552-82a0-be25988b3857"
   },
   "source": [
    "**Note**: if one does not want to upload the model checkpoints to the Hub, \n",
    "set `push_to_hub=False`."
   ]
  },
  {
   "cell_type": "markdown",
   "id": "bac29114-d226-4f54-97cf-8718c9f94e1e",
   "metadata": {
    "id": "bac29114-d226-4f54-97cf-8718c9f94e1e"
   },
   "source": [
    "We can forward the training arguments to the 🤗 Trainer along with our model,\n",
    "dataset, data collator and `compute_metrics` function:"
   ]
  },
  {
   "cell_type": "code",
   "execution_count": 42,
   "id": "d546d7fe-0543-479a-b708-2ebabec19493",
   "metadata": {
    "id": "d546d7fe-0543-479a-b708-2ebabec19493"
   },
   "outputs": [
    {
     "name": "stderr",
     "output_type": "stream",
     "text": [
      "max_steps is given, it will override any value given in num_train_epochs\n"
     ]
    }
   ],
   "source": [
    "from transformers import Seq2SeqTrainer\n",
    "\n",
    "trainer = Seq2SeqTrainer(\n",
    "    args=training_args,\n",
    "    model=model,\n",
    "    train_dataset=my_dataset[\"train\"],\n",
    "    eval_dataset=my_dataset[\"test\"],\n",
    "    data_collator=data_collator,\n",
    "    compute_metrics=compute_metrics,\n",
    "    tokenizer=processor.feature_extractor,\n",
    ")"
   ]
  },
  {
   "cell_type": "markdown",
   "id": "uOrRhDGtN5S4",
   "metadata": {
    "id": "uOrRhDGtN5S4"
   },
   "source": [
    "We'll save the processor object once before starting training. Since the processor is not trainable, it won't change over the course of training:"
   ]
  },
  {
   "cell_type": "code",
   "execution_count": 43,
   "id": "-2zQwMfEOBJq",
   "metadata": {
    "id": "-2zQwMfEOBJq"
   },
   "outputs": [
    {
     "name": "stderr",
     "output_type": "stream",
     "text": [
      "Feature extractor saved in ./preprocessor_config.json\n",
      "tokenizer config file saved in ./tokenizer_config.json\n",
      "Special tokens file saved in ./special_tokens_map.json\n",
      "added tokens file saved in ./added_tokens.json\n"
     ]
    }
   ],
   "source": [
    "# processor.save_pretrained(training_args.output_dir)"
   ]
  },
  {
   "cell_type": "markdown",
   "id": "7f404cf9-4345-468c-8196-4bd101d9bd51",
   "metadata": {
    "id": "7f404cf9-4345-468c-8196-4bd101d9bd51"
   },
   "source": [
    "### Training"
   ]
  },
  {
   "cell_type": "markdown",
   "id": "5e8b8d56-5a70-4f68-bd2e-f0752d0bd112",
   "metadata": {
    "id": "5e8b8d56-5a70-4f68-bd2e-f0752d0bd112"
   },
   "source": [
    "Training will take approximately 5-10 hours depending on your GPU. The peak GPU memory for the given training configuration is approximately 36GB. \n",
    "Depending on your GPU, it is possible that you will encounter a CUDA `\"out-of-memory\"` error when you launch training. \n",
    "In this case, you can reduce the `per_device_train_batch_size` incrementally by factors of 2 \n",
    "and employ [`gradient_accumulation_steps`](https://huggingface.co/docs/transformers/main_classes/trainer#transformers.Seq2SeqTrainingArguments.gradient_accumulation_steps)\n",
    "to compensate.\n",
    "\n",
    "To launch training, simply execute:"
   ]
  },
  {
   "cell_type": "code",
   "execution_count": 44,
   "id": "ee8b7b8e-1c9a-4d77-9137-1778a629e6de",
   "metadata": {
    "id": "ee8b7b8e-1c9a-4d77-9137-1778a629e6de"
   },
   "outputs": [
    {
     "name": "stderr",
     "output_type": "stream",
     "text": [
      "The following columns in the training set don't have a corresponding argument in `WhisperForConditionalGeneration.forward` and have been ignored: input_length, sentence, audio. If input_length, sentence, audio are not expected by `WhisperForConditionalGeneration.forward`,  you can safely ignore this message.\n",
      "e:\\Govt_Speech_Demo\\env\\lib\\site-packages\\transformers\\optimization.py:306: FutureWarning: This implementation of AdamW is deprecated and will be removed in a future version. Use the PyTorch implementation torch.optim.AdamW instead, or set `no_deprecation_warning=True` to disable this warning\n",
      "  warnings.warn(\n",
      "***** Running training *****\n",
      "  Num examples = 99\n",
      "  Num Epochs = 1\n",
      "  Instantaneous batch size per device = 1\n",
      "  Total train batch size (w. parallel, distributed & accumulation) = 1\n",
      "  Gradient Accumulation steps = 1\n",
      "  Total optimization steps = 10\n",
      "  Number of trainable parameters = 37760640\n"
     ]
    },
    {
     "data": {
      "application/vnd.jupyter.widget-view+json": {
       "model_id": "2b25cdc017fd4f858720c5cd147872d4",
       "version_major": 2,
       "version_minor": 0
      },
      "text/plain": [
       "  0%|          | 0/10 [00:00<?, ?it/s]"
      ]
     },
     "metadata": {},
     "output_type": "display_data"
    },
    {
     "name": "stdout",
     "output_type": "stream",
     "text": [
      "{'loss': 4.1199, 'learning_rate': 1e-05, 'epoch': 0.01}\n"
     ]
    },
    {
     "name": "stderr",
     "output_type": "stream",
     "text": [
      "The following columns in the evaluation set don't have a corresponding argument in `WhisperForConditionalGeneration.forward` and have been ignored: input_length, sentence, audio. If input_length, sentence, audio are not expected by `WhisperForConditionalGeneration.forward`,  you can safely ignore this message.\n",
      "***** Running Evaluation *****\n",
      "  Num examples = 50\n",
      "  Batch size = 1\n"
     ]
    },
    {
     "name": "stdout",
     "output_type": "stream",
     "text": [
      "{'loss': 5.1783, 'learning_rate': 8.888888888888888e-06, 'epoch': 0.02}\n"
     ]
    },
    {
     "data": {
      "application/vnd.jupyter.widget-view+json": {
       "model_id": "bb42e7b396c64a74a2fce76c31212cb7",
       "version_major": 2,
       "version_minor": 0
      },
      "text/plain": [
       "  0%|          | 0/50 [00:00<?, ?it/s]"
      ]
     },
     "metadata": {},
     "output_type": "display_data"
    },
    {
     "name": "stderr",
     "output_type": "stream",
     "text": [
      "Saving model checkpoint to ./checkpoint-2\n",
      "Configuration saved in ./checkpoint-2\\config.json\n",
      "Configuration saved in ./checkpoint-2\\generation_config.json\n"
     ]
    },
    {
     "name": "stdout",
     "output_type": "stream",
     "text": [
      "{'eval_loss': 2.581526517868042, 'eval_wer': 117.58336942399308, 'eval_runtime': 154.1871, 'eval_samples_per_second': 0.324, 'eval_steps_per_second': 0.324, 'epoch': 0.02}\n"
     ]
    },
    {
     "name": "stderr",
     "output_type": "stream",
     "text": [
      "Model weights saved in ./checkpoint-2\\pytorch_model.bin\n",
      "Feature extractor saved in ./checkpoint-2\\preprocessor_config.json\n"
     ]
    },
    {
     "name": "stdout",
     "output_type": "stream",
     "text": [
      "{'loss': 3.4525, 'learning_rate': 7.77777777777778e-06, 'epoch': 0.03}\n"
     ]
    },
    {
     "name": "stderr",
     "output_type": "stream",
     "text": [
      "The following columns in the evaluation set don't have a corresponding argument in `WhisperForConditionalGeneration.forward` and have been ignored: input_length, sentence, audio. If input_length, sentence, audio are not expected by `WhisperForConditionalGeneration.forward`,  you can safely ignore this message.\n",
      "***** Running Evaluation *****\n",
      "  Num examples = 50\n",
      "  Batch size = 1\n"
     ]
    },
    {
     "name": "stdout",
     "output_type": "stream",
     "text": [
      "{'loss': 3.1065, 'learning_rate': 6.666666666666667e-06, 'epoch': 0.04}\n"
     ]
    },
    {
     "data": {
      "application/vnd.jupyter.widget-view+json": {
       "model_id": "5292cf0c73ed4721bdb92e403ed50403",
       "version_major": 2,
       "version_minor": 0
      },
      "text/plain": [
       "  0%|          | 0/50 [00:00<?, ?it/s]"
      ]
     },
     "metadata": {},
     "output_type": "display_data"
    },
    {
     "name": "stderr",
     "output_type": "stream",
     "text": [
      "Saving model checkpoint to ./checkpoint-4\n",
      "Configuration saved in ./checkpoint-4\\config.json\n",
      "Configuration saved in ./checkpoint-4\\generation_config.json\n"
     ]
    },
    {
     "name": "stdout",
     "output_type": "stream",
     "text": [
      "{'eval_loss': 2.3962113857269287, 'eval_wer': 118.83932438284972, 'eval_runtime': 153.7487, 'eval_samples_per_second': 0.325, 'eval_steps_per_second': 0.325, 'epoch': 0.04}\n"
     ]
    },
    {
     "name": "stderr",
     "output_type": "stream",
     "text": [
      "Model weights saved in ./checkpoint-4\\pytorch_model.bin\n",
      "Feature extractor saved in ./checkpoint-4\\preprocessor_config.json\n"
     ]
    },
    {
     "name": "stdout",
     "output_type": "stream",
     "text": [
      "{'loss': 2.8752, 'learning_rate': 5.555555555555557e-06, 'epoch': 0.05}\n"
     ]
    },
    {
     "name": "stderr",
     "output_type": "stream",
     "text": [
      "The following columns in the evaluation set don't have a corresponding argument in `WhisperForConditionalGeneration.forward` and have been ignored: input_length, sentence, audio. If input_length, sentence, audio are not expected by `WhisperForConditionalGeneration.forward`,  you can safely ignore this message.\n",
      "***** Running Evaluation *****\n",
      "  Num examples = 50\n",
      "  Batch size = 1\n"
     ]
    },
    {
     "name": "stdout",
     "output_type": "stream",
     "text": [
      "{'loss': 2.5059, 'learning_rate': 4.444444444444444e-06, 'epoch': 0.06}\n"
     ]
    },
    {
     "data": {
      "application/vnd.jupyter.widget-view+json": {
       "model_id": "bbef283b91a0444491406005b4a0715f",
       "version_major": 2,
       "version_minor": 0
      },
      "text/plain": [
       "  0%|          | 0/50 [00:00<?, ?it/s]"
      ]
     },
     "metadata": {},
     "output_type": "display_data"
    },
    {
     "name": "stderr",
     "output_type": "stream",
     "text": [
      "Saving model checkpoint to ./checkpoint-6\n",
      "Configuration saved in ./checkpoint-6\\config.json\n",
      "Configuration saved in ./checkpoint-6\\generation_config.json\n"
     ]
    },
    {
     "name": "stdout",
     "output_type": "stream",
     "text": [
      "{'eval_loss': 2.292249917984009, 'eval_wer': 117.58336942399308, 'eval_runtime': 161.3174, 'eval_samples_per_second': 0.31, 'eval_steps_per_second': 0.31, 'epoch': 0.06}\n"
     ]
    },
    {
     "name": "stderr",
     "output_type": "stream",
     "text": [
      "Model weights saved in ./checkpoint-6\\pytorch_model.bin\n",
      "Feature extractor saved in ./checkpoint-6\\preprocessor_config.json\n"
     ]
    },
    {
     "name": "stdout",
     "output_type": "stream",
     "text": [
      "{'loss': 2.8297, 'learning_rate': 3.3333333333333333e-06, 'epoch': 0.07}\n"
     ]
    },
    {
     "name": "stderr",
     "output_type": "stream",
     "text": [
      "The following columns in the evaluation set don't have a corresponding argument in `WhisperForConditionalGeneration.forward` and have been ignored: input_length, sentence, audio. If input_length, sentence, audio are not expected by `WhisperForConditionalGeneration.forward`,  you can safely ignore this message.\n",
      "***** Running Evaluation *****\n",
      "  Num examples = 50\n",
      "  Batch size = 1\n"
     ]
    },
    {
     "name": "stdout",
     "output_type": "stream",
     "text": [
      "{'loss': 2.1381, 'learning_rate': 2.222222222222222e-06, 'epoch': 0.08}\n"
     ]
    },
    {
     "data": {
      "application/vnd.jupyter.widget-view+json": {
       "model_id": "e373d3673d354e23a2aa4f576123519e",
       "version_major": 2,
       "version_minor": 0
      },
      "text/plain": [
       "  0%|          | 0/50 [00:00<?, ?it/s]"
      ]
     },
     "metadata": {},
     "output_type": "display_data"
    },
    {
     "name": "stderr",
     "output_type": "stream",
     "text": [
      "Saving model checkpoint to ./checkpoint-8\n",
      "Configuration saved in ./checkpoint-8\\config.json\n",
      "Configuration saved in ./checkpoint-8\\generation_config.json\n"
     ]
    },
    {
     "name": "stdout",
     "output_type": "stream",
     "text": [
      "{'eval_loss': 2.2348732948303223, 'eval_wer': 121.26461671719359, 'eval_runtime': 164.2401, 'eval_samples_per_second': 0.304, 'eval_steps_per_second': 0.304, 'epoch': 0.08}\n"
     ]
    },
    {
     "name": "stderr",
     "output_type": "stream",
     "text": [
      "Model weights saved in ./checkpoint-8\\pytorch_model.bin\n",
      "Feature extractor saved in ./checkpoint-8\\preprocessor_config.json\n"
     ]
    },
    {
     "name": "stdout",
     "output_type": "stream",
     "text": [
      "{'loss': 2.5814, 'learning_rate': 1.111111111111111e-06, 'epoch': 0.09}\n"
     ]
    },
    {
     "name": "stderr",
     "output_type": "stream",
     "text": [
      "The following columns in the evaluation set don't have a corresponding argument in `WhisperForConditionalGeneration.forward` and have been ignored: input_length, sentence, audio. If input_length, sentence, audio are not expected by `WhisperForConditionalGeneration.forward`,  you can safely ignore this message.\n",
      "***** Running Evaluation *****\n",
      "  Num examples = 50\n",
      "  Batch size = 1\n"
     ]
    },
    {
     "name": "stdout",
     "output_type": "stream",
     "text": [
      "{'loss': 2.2207, 'learning_rate': 0.0, 'epoch': 0.1}\n"
     ]
    },
    {
     "data": {
      "application/vnd.jupyter.widget-view+json": {
       "model_id": "11e677a149004beb901e3f4720ba46f8",
       "version_major": 2,
       "version_minor": 0
      },
      "text/plain": [
       "  0%|          | 0/50 [00:00<?, ?it/s]"
      ]
     },
     "metadata": {},
     "output_type": "display_data"
    },
    {
     "name": "stderr",
     "output_type": "stream",
     "text": [
      "Saving model checkpoint to ./checkpoint-10\n",
      "Configuration saved in ./checkpoint-10\\config.json\n",
      "Configuration saved in ./checkpoint-10\\generation_config.json\n"
     ]
    },
    {
     "name": "stdout",
     "output_type": "stream",
     "text": [
      "{'eval_loss': 2.2146687507629395, 'eval_wer': 117.97314854915548, 'eval_runtime': 165.3566, 'eval_samples_per_second': 0.302, 'eval_steps_per_second': 0.302, 'epoch': 0.1}\n"
     ]
    },
    {
     "name": "stderr",
     "output_type": "stream",
     "text": [
      "Model weights saved in ./checkpoint-10\\pytorch_model.bin\n",
      "Feature extractor saved in ./checkpoint-10\\preprocessor_config.json\n",
      "\n",
      "\n",
      "Training completed. Do not forget to share your model on huggingface.co/models =)\n",
      "\n",
      "\n",
      "Loading best model from ./checkpoint-2 (score: 117.58336942399308).\n"
     ]
    },
    {
     "name": "stdout",
     "output_type": "stream",
     "text": [
      "{'train_runtime': 836.8903, 'train_samples_per_second': 0.012, 'train_steps_per_second': 0.012, 'train_loss': 3.100829911231995, 'epoch': 0.1}\n"
     ]
    }
   ],
   "source": [
    "train_result = trainer.train()\n",
    "## resume from the latest checkpoint\n",
    "# train_result = trainer.train(resume_from_checkpoint=True)\n",
    "## resume training from the specific checkpoint in the directory passed\n",
    "# train_result = trainer.train(resume_from_checkpoint=\"checkpoint-4000\")"
   ]
  },
  {
   "attachments": {},
   "cell_type": "markdown",
   "id": "cc6b9b15",
   "metadata": {},
   "source": [
    "### Saving Metrics & Model"
   ]
  },
  {
   "cell_type": "code",
   "execution_count": 45,
   "id": "8fce328a",
   "metadata": {},
   "outputs": [
    {
     "name": "stderr",
     "output_type": "stream",
     "text": [
      "Feature extractor saved in ./best_model\\preprocessor_config.json\n",
      "tokenizer config file saved in ./best_model\\tokenizer_config.json\n",
      "Special tokens file saved in ./best_model\\special_tokens_map.json\n",
      "added tokens file saved in ./best_model\\added_tokens.json\n",
      "Saving model checkpoint to ./best_model\n",
      "Configuration saved in ./best_model\\config.json\n",
      "Configuration saved in ./best_model\\generation_config.json\n",
      "Model weights saved in ./best_model\\pytorch_model.bin\n",
      "Feature extractor saved in ./best_model\\preprocessor_config.json\n"
     ]
    }
   ],
   "source": [
    "if not os.path.exists(\"best_model\"):\n",
    "    os.makedirs(\"best_model\")\n",
    "\n",
    "processor.save_pretrained(\"best_model\")\n",
    "trainer.save_model(\"best_model\")\n"
   ]
  },
  {
   "cell_type": "code",
   "execution_count": 46,
   "id": "c16209b0",
   "metadata": {},
   "outputs": [],
   "source": [
    "metrics = train_result.metrics\n",
    "trainer.save_metrics(\"train\", metrics)\n",
    "trainer.save_state()"
   ]
  },
  {
   "cell_type": "code",
   "execution_count": 47,
   "id": "6ba0c867",
   "metadata": {},
   "outputs": [
    {
     "name": "stderr",
     "output_type": "stream",
     "text": [
      "The following columns in the evaluation set don't have a corresponding argument in `WhisperForConditionalGeneration.forward` and have been ignored: input_length, sentence, audio. If input_length, sentence, audio are not expected by `WhisperForConditionalGeneration.forward`,  you can safely ignore this message.\n",
      "***** Running Evaluation *****\n",
      "  Num examples = 50\n",
      "  Batch size = 1\n"
     ]
    },
    {
     "data": {
      "application/vnd.jupyter.widget-view+json": {
       "model_id": "01c743de4e9047e6adcc0d39917e8706",
       "version_major": 2,
       "version_minor": 0
      },
      "text/plain": [
       "  0%|          | 0/50 [00:00<?, ?it/s]"
      ]
     },
     "metadata": {},
     "output_type": "display_data"
    }
   ],
   "source": [
    "metrics = trainer.evaluate(\n",
    "    metric_key_prefix=\"eval\",\n",
    "    max_length=training_args.generation_max_length,\n",
    "    num_beams=training_args.generation_num_beams,\n",
    ")\n",
    "trainer.save_metrics(\"eval\", metrics)"
   ]
  },
  {
   "attachments": {},
   "cell_type": "markdown",
   "id": "01d25291",
   "metadata": {},
   "source": [
    "### Push to Hub"
   ]
  },
  {
   "cell_type": "markdown",
   "id": "810ced54-7187-4a06-b2fe-ba6dcca94dc3",
   "metadata": {
    "id": "810ced54-7187-4a06-b2fe-ba6dcca94dc3"
   },
   "source": [
    "We can label our checkpoint with the `whisper-event` tag on push by setting the appropriate key-word arguments (kwargs):"
   ]
  },
  {
   "cell_type": "code",
   "execution_count": null,
   "id": "c704f91e-241b-48c9-b8e0-f0da396a9663",
   "metadata": {
    "id": "c704f91e-241b-48c9-b8e0-f0da396a9663"
   },
   "outputs": [],
   "source": [
    "kwargs = {\n",
    "    \"dataset_tags\": [\"mozilla-foundation/common_voice_11_0\", \"google/fleurs\", \"openslr\"],\n",
    "    \"dataset\": \"common-voice-11+google-fleurs+openslr53\",  # a 'pretty' name for the training dataset\n",
    "    \"language\": \"bn\",\n",
    "    \"model_name\": \"Whisper Small - Mohammed Rakib\",  # a 'pretty' name for your model\n",
    "    \"finetuned_from\": \"openai/whisper-small\",\n",
    "    \"tasks\": \"automatic-speech-recognition\",\n",
    "    \"tags\": \"whisper-event\",\n",
    "}"
   ]
  },
  {
   "cell_type": "markdown",
   "id": "090d676a-f944-4297-a938-a40eda0b2b68",
   "metadata": {
    "id": "090d676a-f944-4297-a938-a40eda0b2b68"
   },
   "source": [
    "The training results can now be uploaded to the Hub. To do so, execute the `push_to_hub` command and save the preprocessor object we created:"
   ]
  },
  {
   "cell_type": "code",
   "execution_count": null,
   "id": "d7030622-caf7-4039-939b-6195cdaa2585",
   "metadata": {
    "id": "d7030622-caf7-4039-939b-6195cdaa2585"
   },
   "outputs": [],
   "source": [
    "trainer.push_to_hub(**kwargs)"
   ]
  },
  {
   "cell_type": "markdown",
   "id": "ca743fbd-602c-48d4-ba8d-a2fe60af64ba",
   "metadata": {
    "id": "ca743fbd-602c-48d4-ba8d-a2fe60af64ba"
   },
   "source": [
    "## Closing Remarks"
   ]
  },
  {
   "cell_type": "markdown",
   "id": "7f737783-2870-4e35-aa11-86a42d7d997a",
   "metadata": {
    "id": "7f737783-2870-4e35-aa11-86a42d7d997a"
   },
   "source": [
    "In this blog, we covered a step-by-step guide on fine-tuning Whisper for multilingual ASR \n",
    "using 🤗 Datasets, Transformers and the Hugging Face Hub. For more details on the Whisper model, the Common Voice dataset and the theory behind fine-tuning, refere to the accompanying [blog post](https://huggingface.co/blog/fine-tune-whisper). If you're interested in fine-tuning other \n",
    "Transformers models, both for English and multilingual ASR, be sure to check out the \n",
    "examples scripts at [examples/pytorch/speech-recognition](https://github.com/huggingface/transformers/tree/main/examples/pytorch/speech-recognition)."
   ]
  }
 ],
 "metadata": {
  "colab": {
   "include_colab_link": true,
   "provenance": []
  },
  "kernelspec": {
   "display_name": "env",
   "language": "python",
   "name": "python3"
  },
  "language_info": {
   "codemirror_mode": {
    "name": "ipython",
    "version": 3
   },
   "file_extension": ".py",
   "mimetype": "text/x-python",
   "name": "python",
   "nbconvert_exporter": "python",
   "pygments_lexer": "ipython3",
   "version": "3.10.9"
  },
  "vscode": {
   "interpreter": {
    "hash": "eeb371f90cdd1c2dc5c1e53a97248eeca44d2781b42f5ad44bd92dcd898403ea"
   }
  }
 },
 "nbformat": 4,
 "nbformat_minor": 5
}
